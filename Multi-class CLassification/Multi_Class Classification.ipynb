{
  "cells": [
    {
      "cell_type": "markdown",
      "metadata": {
        "id": "R0P4GvdP3Mro"
      },
      "source": [
        "<p style=\"text-align:center\">\n",
        "    <a href=\"https://skills.network/?utm_medium=Exinfluencer&utm_source=Exinfluencer&utm_content=000026UJ&utm_term=10006555&utm_id=NA-SkillsNetwork-Channel-SkillsNetworkCoursesIBMDeveloperSkillsNetworkML0101ENSkillsNetwork1047-2023-01-01\">\n",
        "    <img src=\"https://cf-courses-data.s3.us.cloud-object-storage.appdomain.cloud/assets/logos/SN_web_lightmode.png\" width=\"200\" alt=\"Skills Network Logo\"  />\n",
        "    </a>\n",
        "</p>\n"
      ]
    },
    {
      "cell_type": "markdown",
      "metadata": {
        "id": "ec_NtMiu3Mrr"
      },
      "source": [
        "#  **Softmax Regression, One-vs-All and One-vs-One for Multi-class Classification**\n"
      ]
    },
    {
      "cell_type": "markdown",
      "metadata": {
        "id": "_whDtAIO3Mrs"
      },
      "source": [
        "Estimated time needed: **1** hour\n"
      ]
    },
    {
      "cell_type": "markdown",
      "metadata": {
        "id": "moDEBYKp3Mrs"
      },
      "source": [
        " In this lab, we will study how to convert a linear classifier into a multi-class classifier, including multinomial logistic regression or softmax regression, One vs. All (One-vs-Rest) and One vs. One.\n"
      ]
    },
    {
      "cell_type": "markdown",
      "metadata": {
        "id": "l4w-c5y03Mrs"
      },
      "source": [
        "## **Objectives**\n"
      ]
    },
    {
      "cell_type": "markdown",
      "metadata": {
        "id": "KaNtoqf73Mrt"
      },
      "source": [
        "After completing this lab you will be able to:\n"
      ]
    },
    {
      "cell_type": "markdown",
      "metadata": {
        "id": "5J77obhp3Mrt"
      },
      "source": [
        "*   Understand and apply some theory behind:\n",
        "    *  Softmax regression\n",
        "    *  One vs. All (One-vs-Rest)\n",
        "    * One vs. One\n"
      ]
    },
    {
      "cell_type": "markdown",
      "metadata": {
        "id": "el-P-d263Mrt"
      },
      "source": [
        "## **Introduction**\n"
      ]
    },
    {
      "cell_type": "markdown",
      "metadata": {
        "id": "rZB704Jo3Mrt"
      },
      "source": [
        "In Multi-class classification, we classify data into multiple class labels. Unlike classification trees and k-nearest neighbor, the concept of multi-class classification for linear classifiers is not as straightforward. We can convert logistic regression to multi-class classification using multinomial logistic regression or softmax regression; this is a generalization of logistic regression, this will not work for support vector machines. One vs. All (One-vs-Rest) and One vs. One are two other multi-class classification techniques can convert any two-class classifier into a multi-class classifier.\n"
      ]
    },
    {
      "cell_type": "markdown",
      "metadata": {
        "id": "7XLJmJDr3Mru"
      },
      "source": [
        "***\n"
      ]
    },
    {
      "cell_type": "markdown",
      "metadata": {
        "id": "FlEuJ-E-3Mru"
      },
      "source": [
        "## **Install and Import the required libraries**\n"
      ]
    },
    {
      "cell_type": "markdown",
      "metadata": {
        "id": "AE7_Is_f3Mru"
      },
      "source": [
        "For this lab, we are going to be using several Python libraries such as scit-learn, numpy, and matplotlib  for visualizations. Some of these libraries might be installed in your lab environment, and others may need to be installed by you by removing the hash signs. The cells below will install these libraries when executed.\n"
      ]
    },
    {
      "cell_type": "code",
      "execution_count": 1,
      "metadata": {
        "id": "BaRhPkjD3Mru"
      },
      "outputs": [],
      "source": [
        "import numpy as np\n",
        "import matplotlib.pyplot as plt\n",
        "from sklearn import datasets\n",
        "from sklearn.svm import SVC\n",
        "from sklearn.linear_model import LogisticRegression\n",
        "from sklearn.metrics import accuracy_score\n",
        "import pandas as pd"
      ]
    },
    {
      "cell_type": "markdown",
      "metadata": {
        "id": "5h_Gm7zF3Mrv"
      },
      "source": [
        "## Utility Function\n"
      ]
    },
    {
      "cell_type": "markdown",
      "metadata": {
        "id": "yL7ZWGUY3Mrv"
      },
      "source": [
        "This function plots a different decision boundary.\n"
      ]
    },
    {
      "cell_type": "code",
      "execution_count": 2,
      "metadata": {
        "id": "-WBCLBMs3Mrv"
      },
      "outputs": [],
      "source": [
        "plot_colors = \"ryb\"\n",
        "plot_step = 0.02\n",
        "\n",
        "def decision_boundary (X,y,model,iris, two=None):\n",
        "    x_min, x_max = X[:, 0].min() - 1, X[:, 0].max() + 1\n",
        "    y_min, y_max = X[:, 1].min() - 1, X[:, 1].max() + 1\n",
        "    xx, yy = np.meshgrid(np.arange(x_min, x_max, plot_step),\n",
        "                         np.arange(y_min, y_max, plot_step))\n",
        "    plt.tight_layout(h_pad=0.5, w_pad=0.5, pad=2.5)\n",
        "\n",
        "    Z = model.predict(np.c_[xx.ravel(), yy.ravel()])\n",
        "    Z = Z.reshape(xx.shape)\n",
        "    cs = plt.contourf(xx, yy, Z,cmap=plt.cm.RdYlBu)\n",
        "\n",
        "    if two:\n",
        "        cs = plt.contourf(xx, yy, Z,cmap=plt.cm.RdYlBu)\n",
        "        for i, color in zip(np.unique(y), plot_colors):\n",
        "\n",
        "            idx = np.where( y== i)\n",
        "            plt.scatter(X[idx, 0], X[idx, 1], label=y,cmap=plt.cm.RdYlBu, s=15)\n",
        "        plt.show()\n",
        "\n",
        "    else:\n",
        "        set_={0,1,2}\n",
        "        print(set_)\n",
        "        for i, color in zip(range(3), plot_colors):\n",
        "            idx = np.where( y== i)\n",
        "            if np.any(idx):\n",
        "\n",
        "                set_.remove(i)\n",
        "\n",
        "                plt.scatter(X[idx, 0], X[idx, 1], label=y,cmap=plt.cm.RdYlBu, edgecolor='black', s=15)\n",
        "\n",
        "\n",
        "        for  i in set_:\n",
        "            idx = np.where( iris.target== i)\n",
        "            plt.scatter(X[idx, 0], X[idx, 1], marker='x',color='black')\n",
        "\n",
        "        plt.show()\n"
      ]
    },
    {
      "cell_type": "markdown",
      "metadata": {
        "id": "a4Dcg_0y3Mrv"
      },
      "source": [
        "This function will plot the probability of belonging to each class; each column is the probability of belonging to a class and the row number is the sample number.\n"
      ]
    },
    {
      "cell_type": "code",
      "execution_count": 3,
      "metadata": {
        "id": "K0BAaP6Q3Mrv"
      },
      "outputs": [],
      "source": [
        "def plot_probability_array(X,probability_array):\n",
        "\n",
        "    plot_array=np.zeros((X.shape[0],30))\n",
        "    col_start=0\n",
        "    ones=np.ones((X.shape[0],30))\n",
        "    for class_,col_end in enumerate([10,20,30]):\n",
        "        plot_array[:,col_start:col_end]= np.repeat(probability_array[:,class_].reshape(-1,1), 10,axis=1)\n",
        "        col_start=col_end\n",
        "    plt.imshow(plot_array)\n",
        "    plt.xticks([])\n",
        "    plt.ylabel(\"samples\")\n",
        "    plt.xlabel(\"probability of 3 classes\")\n",
        "    plt.colorbar()\n",
        "    plt.show()"
      ]
    },
    {
      "cell_type": "markdown",
      "metadata": {
        "id": "0Occ2i-m3Mrw"
      },
      "source": [
        "In ths lab we will use the  iris dataset,  it consists of three different types of irises’ (Setosa y=0, Versicolour y=1, and Virginica y=2), petal and sepal length, stored in a 150x4 numpy.ndarray.\n",
        "\n",
        "The rows being the samples and the columns: Sepal Length, Sepal Width, Petal Length and Petal Width.\n",
        "\n",
        "The following plot uses the second two features:\n"
      ]
    },
    {
      "cell_type": "code",
      "execution_count": 4,
      "metadata": {
        "colab": {
          "base_uri": "https://localhost:8080/"
        },
        "id": "H1STp49r3Mrw",
        "outputId": "7bd9ce6c-59b7-40dc-8e80-bedc70ab5284"
      },
      "outputs": [
        {
          "output_type": "execute_result",
          "data": {
            "text/plain": [
              "array([0, 1, 2])"
            ]
          },
          "metadata": {},
          "execution_count": 4
        }
      ],
      "source": [
        "pair=[1, 3]\n",
        "iris = datasets.load_iris()\n",
        "X = iris.data[:, pair]\n",
        "y = iris.target\n",
        "np.unique(y)"
      ]
    },
    {
      "cell_type": "code",
      "execution_count": 5,
      "metadata": {
        "colab": {
          "base_uri": "https://localhost:8080/",
          "height": 466
        },
        "id": "tgIg1h7-3Mrw",
        "outputId": "308fde58-055a-43aa-de5f-a5a0ab92ad58"
      },
      "outputs": [
        {
          "output_type": "execute_result",
          "data": {
            "text/plain": [
              "Text(0, 0.5, 'petal width')"
            ]
          },
          "metadata": {},
          "execution_count": 5
        },
        {
          "output_type": "display_data",
          "data": {
            "text/plain": [
              "<Figure size 640x480 with 1 Axes>"
            ],
            "image/png": "[encoded data removed]"
          },
          "metadata": {}
        }
      ],
      "source": [
        "\n",
        "plt.scatter(X[:, 0], X[:, 1], c=y, cmap=plt.cm.RdYlBu)\n",
        "plt.xlabel(\"sepal width (cm)\")\n",
        "plt.ylabel(\"petal width\")"
      ]
    },
    {
      "cell_type": "markdown",
      "metadata": {
        "id": "UcpgUY7o3Mrw"
      },
      "source": [
        "## **Softmax Regression**  \n"
      ]
    },
    {
      "cell_type": "markdown",
      "metadata": {
        "id": "dW4iebhV3Mrw"
      },
      "source": [
        "SoftMax regression is similar to logistic regression, and the softmax function converts the actual distances, that is, dot products of $x$ with each of the parameters $\\theta_i$ for the $K$ classes. This is converted to probabilities using the following:\n"
      ]
    },
    {
      "cell_type": "markdown",
      "metadata": {
        "id": "DXBcpeDL3Mrw"
      },
      "source": [
        "$softmax(x,i) = \\frac{e^{ \\theta_i^T \\bf x}}{\\sum_{j=1}^K e^{\\theta_j^T x}} $\n"
      ]
    },
    {
      "cell_type": "markdown",
      "metadata": {
        "id": "ooZUBGy93Mrx"
      },
      "source": [
        "The training procedure is almost identical to logistic regression. Consider the three-class example where $y \\in \\{0,1,2\\}$ we would like to classify $x_1$. We can use the softmax function to generate a probability of how likely the sample belongs to each class:\n"
      ]
    },
    {
      "cell_type": "markdown",
      "metadata": {
        "id": "h29k1tW63Mrx"
      },
      "source": [
        "$[softmax(x_1,0),softmax(x_1,1),softmax(x_1,2)]=[0.97,0.2,0.1]$\n"
      ]
    },
    {
      "cell_type": "markdown",
      "metadata": {
        "id": "RPKPWdqA3Mrx"
      },
      "source": [
        "The index of each probability is the same as the class. We can make a prediction using the argmax function:\n"
      ]
    },
    {
      "cell_type": "markdown",
      "metadata": {
        "id": "HupmtCAo3Mrx"
      },
      "source": [
        "$\\hat{y}=argmax_i  \\{softmax(x,i)\\}$\n"
      ]
    },
    {
      "cell_type": "markdown",
      "metadata": {
        "id": "x46eM21i3Mrx"
      },
      "source": [
        "For the previous example, we can make a prediction as follows:\n"
      ]
    },
    {
      "cell_type": "markdown",
      "metadata": {
        "id": "AaQr7FzL3Mrx"
      },
      "source": [
        "$\\hat{y}=argmax_i  \\{[0.97,0.2,0.1]\\}=0$\n"
      ]
    },
    {
      "cell_type": "markdown",
      "metadata": {
        "id": "K4P7-qZQ3Mrx"
      },
      "source": [
        "The <code>sklearn</code> does this automatically, but we can verify the prediction step, as we fit the model:\n"
      ]
    },
    {
      "cell_type": "code",
      "execution_count": 6,
      "metadata": {
        "id": "SYDvLTkQ3Mrx"
      },
      "outputs": [],
      "source": [
        "lr = LogisticRegression(random_state=0).fit(X, y)"
      ]
    },
    {
      "cell_type": "markdown",
      "metadata": {
        "id": "VHSsFi6c3Mrx"
      },
      "source": [
        "We generate the probability using the method <ocde>predict_proba</code>:\n"
      ]
    },
    {
      "cell_type": "code",
      "execution_count": 7,
      "metadata": {
        "id": "oHYMfex53Mry"
      },
      "outputs": [],
      "source": [
        "probability=lr.predict_proba(X)\n"
      ]
    },
    {
      "cell_type": "markdown",
      "metadata": {
        "id": "_IP_s-Pc3Mry"
      },
      "source": [
        "We can plot the probability of belonging to each class; each column is the probability of belonging to a class and the row number is the sample number.\n"
      ]
    },
    {
      "cell_type": "code",
      "execution_count": 8,
      "metadata": {
        "colab": {
          "base_uri": "https://localhost:8080/",
          "height": 430
        },
        "id": "60CVg6Ry3Mry",
        "outputId": "7b48a805-0591-486c-cc3b-7ab2298f5325"
      },
      "outputs": [
        {
          "output_type": "display_data",
          "data": {
            "text/plain": [
              "<Figure size 640x480 with 2 Axes>"
            ],
            "image/png": "[encoded data removed]"
          },
          "metadata": {}
        }
      ],
      "source": [
        "plot_probability_array(X,probability)"
      ]
    },
    {
      "cell_type": "markdown",
      "metadata": {
        "id": "AjWo7J8n3Mrz"
      },
      "source": [
        "Here, is the output for the first sample:\n"
      ]
    },
    {
      "cell_type": "code",
      "execution_count": 9,
      "metadata": {
        "colab": {
          "base_uri": "https://localhost:8080/"
        },
        "id": "4ojUrl0f3Mrz",
        "outputId": "7492a465-b752-4d76-925f-a0e9cb5de3a9"
      },
      "outputs": [
        {
          "output_type": "execute_result",
          "data": {
            "text/plain": [
              "array([9.57671606e-01, 4.22321095e-02, 9.62845517e-05])"
            ]
          },
          "metadata": {},
          "execution_count": 9
        }
      ],
      "source": [
        "probability[0,:]"
      ]
    },
    {
      "cell_type": "markdown",
      "metadata": {
        "id": "bHGyWuoe3Mrz"
      },
      "source": [
        "We see it sums to one.\n"
      ]
    },
    {
      "cell_type": "code",
      "execution_count": 10,
      "metadata": {
        "colab": {
          "base_uri": "https://localhost:8080/"
        },
        "id": "peNnwFVs3MsA",
        "outputId": "00f5b59f-e4aa-4693-9560-f4a54ca1cebf"
      },
      "outputs": [
        {
          "output_type": "execute_result",
          "data": {
            "text/plain": [
              "1.0"
            ]
          },
          "metadata": {},
          "execution_count": 10
        }
      ],
      "source": [
        "probability[0,:].sum()"
      ]
    },
    {
      "cell_type": "markdown",
      "metadata": {
        "id": "r6tjUsZA3MsA"
      },
      "source": [
        "We can apply the $argmax$ function.\n"
      ]
    },
    {
      "cell_type": "code",
      "execution_count": 11,
      "metadata": {
        "colab": {
          "base_uri": "https://localhost:8080/"
        },
        "id": "ga1KpbAl3MsA",
        "outputId": "a60d1f95-8e97-40e6-c933-ac3cdf832f0c"
      },
      "outputs": [
        {
          "output_type": "execute_result",
          "data": {
            "text/plain": [
              "0"
            ]
          },
          "metadata": {},
          "execution_count": 11
        }
      ],
      "source": [
        "np.argmax(probability[0,:])"
      ]
    },
    {
      "cell_type": "markdown",
      "metadata": {
        "id": "AfE8pREB3MsA"
      },
      "source": [
        "We can apply the $argmax$ function to each sample.\n"
      ]
    },
    {
      "cell_type": "code",
      "execution_count": 12,
      "metadata": {
        "colab": {
          "base_uri": "https://localhost:8080/"
        },
        "id": "TXMYDas13MsB",
        "outputId": "69be239f-98c5-4582-997f-16ef46383a37"
      },
      "outputs": [
        {
          "output_type": "execute_result",
          "data": {
            "text/plain": [
              "array([0, 0, 0, 0, 0, 0, 0, 0, 0, 0, 0, 0, 0, 0, 0, 0, 0, 0, 0, 0, 0, 0,\n",
              "       0, 0, 0, 0, 0, 0, 0, 0, 0, 0, 0, 0, 0, 0, 0, 0, 0, 0, 0, 0, 0, 0,\n",
              "       0, 0, 0, 0, 0, 0, 1, 1, 1, 1, 1, 1, 1, 1, 1, 1, 1, 1, 1, 1, 1, 1,\n",
              "       1, 1, 1, 1, 2, 1, 1, 1, 1, 1, 1, 2, 1, 1, 1, 1, 1, 1, 1, 1, 1, 1,\n",
              "       1, 1, 1, 1, 1, 1, 1, 1, 1, 1, 1, 1, 2, 2, 2, 2, 2, 2, 2, 2, 2, 2,\n",
              "       2, 2, 2, 2, 2, 2, 2, 2, 2, 1, 2, 2, 2, 2, 2, 2, 2, 2, 2, 1, 2, 2,\n",
              "       2, 1, 1, 2, 2, 2, 2, 2, 2, 2, 2, 2, 2, 2, 2, 2, 2, 2])"
            ]
          },
          "metadata": {},
          "execution_count": 12
        }
      ],
      "source": [
        "softmax_prediction=np.argmax(probability,axis=1)\n",
        "softmax_prediction"
      ]
    },
    {
      "cell_type": "markdown",
      "metadata": {
        "id": "ru6cWEt_3MsB"
      },
      "source": [
        "We can verify that sklearn does this under the hood by comparing it to the output of the method <code> predict  </code>.\n"
      ]
    },
    {
      "cell_type": "code",
      "execution_count": 13,
      "metadata": {
        "colab": {
          "base_uri": "https://localhost:8080/"
        },
        "id": "X31kw7lT3MsB",
        "outputId": "48ab74ac-06eb-4139-97e9-ac2f02e07784"
      },
      "outputs": [
        {
          "output_type": "execute_result",
          "data": {
            "text/plain": [
              "1.0"
            ]
          },
          "metadata": {},
          "execution_count": 13
        }
      ],
      "source": [
        "yhat =lr.predict(X)\n",
        "accuracy_score(yhat,softmax_prediction)"
      ]
    },
    {
      "cell_type": "markdown",
      "metadata": {
        "id": "NViwLGj_3MsB"
      },
      "source": [
        "We can't use Softmax regression for SVMs, Let's explore two methods of Multi-class Classification that we can apply to SVM.\n"
      ]
    },
    {
      "cell_type": "markdown",
      "metadata": {
        "id": "Da7cHhc33MsC"
      },
      "source": [
        "## SVM\n"
      ]
    },
    {
      "cell_type": "markdown",
      "metadata": {
        "id": "TkK8VOhG3MsC"
      },
      "source": [
        "Sklean performs Multi-class Classification automatically, we can apply the method and calculate the accuracy. Train a SVM classifier with the `kernel` set to `linear`, `gamma` set to `0.5`, and the `probability` paramter set to `True`, then train the model using the `X` and `y` data.\n"
      ]
    },
    {
      "cell_type": "code",
      "execution_count": 15,
      "metadata": {
        "colab": {
          "base_uri": "https://localhost:8080/",
          "height": 74
        },
        "id": "QAC419c43MsC",
        "outputId": "0e2b7f1c-c3e7-4552-aa49-81c93a86b01a"
      },
      "outputs": [
        {
          "output_type": "execute_result",
          "data": {
            "text/plain": [
              "SVC(gamma=0.5, kernel='linear', probability=True)"
            ],
            "text/html": [
              "<style>#sk-container-id-1 {color: black;background-color: white;}#sk-container-id-1 pre{padding: 0;}#sk-container-id-1 div.sk-toggleable {background-color: white;}#sk-container-id-1 label.sk-toggleable__label {cursor: pointer;display: block;width: 100%;margin-bottom: 0;padding: 0.3em;box-sizing: border-box;text-align: center;}#sk-container-id-1 label.sk-toggleable__label-arrow:before {content: \"▸\";float: left;margin-right: 0.25em;color: #696969;}#sk-container-id-1 label.sk-toggleable__label-arrow:hover:before {color: black;}#sk-container-id-1 div.sk-estimator:hover label.sk-toggleable__label-arrow:before {color: black;}#sk-container-id-1 div.sk-toggleable__content {max-height: 0;max-width: 0;overflow: hidden;text-align: left;background-color: #f0f8ff;}#sk-container-id-1 div.sk-toggleable__content pre {margin: 0.2em;color: black;border-radius: 0.25em;background-color: #f0f8ff;}#sk-container-id-1 input.sk-toggleable__control:checked~div.sk-toggleable__content {max-height: 200px;max-width: 100%;overflow: auto;}#sk-container-id-1 input.sk-toggleable__control:checked~label.sk-toggleable__label-arrow:before {content: \"▾\";}#sk-container-id-1 div.sk-estimator input.sk-toggleable__control:checked~label.sk-toggleable__label {background-color: #d4ebff;}#sk-container-id-1 div.sk-label input.sk-toggleable__control:checked~label.sk-toggleable__label {background-color: #d4ebff;}#sk-container-id-1 input.sk-hidden--visually {border: 0;clip: rect(1px 1px 1px 1px);clip: rect(1px, 1px, 1px, 1px);height: 1px;margin: -1px;overflow: hidden;padding: 0;position: absolute;width: 1px;}#sk-container-id-1 div.sk-estimator {font-family: monospace;background-color: #f0f8ff;border: 1px dotted black;border-radius: 0.25em;box-sizing: border-box;margin-bottom: 0.5em;}#sk-container-id-1 div.sk-estimator:hover {background-color: #d4ebff;}#sk-container-id-1 div.sk-parallel-item::after {content: \"\";width: 100%;border-bottom: 1px solid gray;flex-grow: 1;}#sk-container-id-1 div.sk-label:hover label.sk-toggleable__label {background-color: #d4ebff;}#sk-container-id-1 div.sk-serial::before {content: \"\";position: absolute;border-left: 1px solid gray;box-sizing: border-box;top: 0;bottom: 0;left: 50%;z-index: 0;}#sk-container-id-1 div.sk-serial {display: flex;flex-direction: column;align-items: center;background-color: white;padding-right: 0.2em;padding-left: 0.2em;position: relative;}#sk-container-id-1 div.sk-item {position: relative;z-index: 1;}#sk-container-id-1 div.sk-parallel {display: flex;align-items: stretch;justify-content: center;background-color: white;position: relative;}#sk-container-id-1 div.sk-item::before, #sk-container-id-1 div.sk-parallel-item::before {content: \"\";position: absolute;border-left: 1px solid gray;box-sizing: border-box;top: 0;bottom: 0;left: 50%;z-index: -1;}#sk-container-id-1 div.sk-parallel-item {display: flex;flex-direction: column;z-index: 1;position: relative;background-color: white;}#sk-container-id-1 div.sk-parallel-item:first-child::after {align-self: flex-end;width: 50%;}#sk-container-id-1 div.sk-parallel-item:last-child::after {align-self: flex-start;width: 50%;}#sk-container-id-1 div.sk-parallel-item:only-child::after {width: 0;}#sk-container-id-1 div.sk-dashed-wrapped {border: 1px dashed gray;margin: 0 0.4em 0.5em 0.4em;box-sizing: border-box;padding-bottom: 0.4em;background-color: white;}#sk-container-id-1 div.sk-label label {font-family: monospace;font-weight: bold;display: inline-block;line-height: 1.2em;}#sk-container-id-1 div.sk-label-container {text-align: center;}#sk-container-id-1 div.sk-container {/* jupyter's `normalize.less` sets `[hidden] { display: none; }` but bootstrap.min.css set `[hidden] { display: none !important; }` so we also need the `!important` here to be able to override the default hidden behavior on the sphinx rendered scikit-learn.org. See: https://github.com/scikit-learn/scikit-learn/issues/21755 */display: inline-block !important;position: relative;}#sk-container-id-1 div.sk-text-repr-fallback {display: none;}</style><div id=\"sk-container-id-1\" class=\"sk-top-container\"><div class=\"sk-text-repr-fallback\"><pre>SVC(gamma=0.5, kernel=&#x27;linear&#x27;, probability=True)</pre><b>In a Jupyter environment, please rerun this cell to show the HTML representation or trust the notebook. <br />On GitHub, the HTML representation is unable to render, please try loading this page with nbviewer.org.</b></div><div class=\"sk-container\" hidden><div class=\"sk-item\"><div class=\"sk-estimator sk-toggleable\"><input class=\"sk-toggleable__control sk-hidden--visually\" id=\"sk-estimator-id-1\" type=\"checkbox\" checked><label for=\"sk-estimator-id-1\" class=\"sk-toggleable__label sk-toggleable__label-arrow\">SVC</label><div class=\"sk-toggleable__content\"><pre>SVC(gamma=0.5, kernel=&#x27;linear&#x27;, probability=True)</pre></div></div></div></div></div>"
            ]
          },
          "metadata": {},
          "execution_count": 15
        }
      ],
      "source": [
        "model = SVC(kernel='linear', gamma=.5, probability=True)\n",
        "\n",
        "model.fit(X,y)"
      ]
    },
    {
      "cell_type": "markdown",
      "metadata": {
        "id": "45LyhJmM3MsC"
      },
      "source": [
        "<details><summary>Click here for the solution</summary>\n",
        "\n",
        "```python    \n",
        "model = SVC(kernel='linear', gamma=.5, probability=True)\n",
        "\n",
        "model.fit(X,y)\n",
        "\n",
        "```\n",
        "\n",
        "</details>\n"
      ]
    },
    {
      "cell_type": "markdown",
      "metadata": {
        "id": "jh8dhCqs3MsD"
      },
      "source": [
        "Find the `accuracy_score` on the training data.\n"
      ]
    },
    {
      "cell_type": "code",
      "execution_count": 16,
      "metadata": {
        "colab": {
          "base_uri": "https://localhost:8080/"
        },
        "id": "TORQ3dTU3MsD",
        "outputId": "97ad8f68-d8b0-4c16-ce9b-135d2ec615cc"
      },
      "outputs": [
        {
          "output_type": "execute_result",
          "data": {
            "text/plain": [
              "0.96"
            ]
          },
          "metadata": {},
          "execution_count": 16
        }
      ],
      "source": [
        "yhat = model.predict(X)\n",
        "\n",
        "accuracy_score(y,yhat)"
      ]
    },
    {
      "cell_type": "markdown",
      "metadata": {
        "id": "sS7iVU_-3MsD"
      },
      "source": [
        "<details><summary>Click here for the solution</summary>\n",
        "\n",
        "```python    \n",
        "yhat = model.predict(X)\n",
        "\n",
        "accuracy_score(y,yhat)\n",
        "\n",
        "```\n",
        "\n",
        "</details>\n"
      ]
    },
    {
      "cell_type": "markdown",
      "metadata": {
        "id": "fjeUE5fz3MsD"
      },
      "source": [
        "We can plot the decision_boundary.\n"
      ]
    },
    {
      "cell_type": "code",
      "execution_count": 17,
      "metadata": {
        "colab": {
          "base_uri": "https://localhost:8080/",
          "height": 482
        },
        "id": "fsQShkps3MsD",
        "outputId": "79f3585b-527e-49cb-db92-4efceb1f7e66"
      },
      "outputs": [
        {
          "output_type": "stream",
          "name": "stdout",
          "text": [
            "{0, 1, 2}\n"
          ]
        },
        {
          "output_type": "stream",
          "name": "stderr",
          "text": [
            "<ipython-input-2-0090ef54ae11>:32: UserWarning: No data for colormapping provided via 'c'. Parameters 'cmap' will be ignored\n",
            "  plt.scatter(X[idx, 0], X[idx, 1], label=y,cmap=plt.cm.RdYlBu, edgecolor='black', s=15)\n"
          ]
        },
        {
          "output_type": "display_data",
          "data": {
            "text/plain": [
              "<Figure size 640x480 with 1 Axes>"
            ],
            "image/png": "[encoded data removed]"
          },
          "metadata": {}
        }
      ],
      "source": [
        "decision_boundary (X,y,model,iris)"
      ]
    },
    {
      "cell_type": "markdown",
      "metadata": {
        "id": "fzCKBUyq3MsE"
      },
      "source": [
        "Let's implement One vs. All and One vs One:\n"
      ]
    },
    {
      "cell_type": "markdown",
      "metadata": {
        "id": "God1sAmU3MsE"
      },
      "source": [
        "## One vs. All (One-vs-Rest)\n"
      ]
    },
    {
      "cell_type": "markdown",
      "metadata": {
        "id": "5-ifKvvh3MsE"
      },
      "source": [
        "For one-vs-all classification, if we have K classes, we use K two-class classifier models. The number of class labels present in the dataset is equal to the number of generated classifiers. First, we create an artificial class we will call this \"dummy\" class. For each classifier, we split the data into two classes. We take the class samples we would like to classify, the rest of the samples will be labelled as a dummy class. We repeat the process for each class. To make a  classification, we use the classifier with the highest probability, disregarding the dummy class.\n"
      ]
    },
    {
      "cell_type": "markdown",
      "metadata": {
        "id": "JONLiSOZ3MsF"
      },
      "source": [
        "### Train Each Classifier\n"
      ]
    },
    {
      "cell_type": "markdown",
      "metadata": {
        "id": "JOnTMPOh3MsG"
      },
      "source": [
        "Here, we train three classifiers and place them in the list <code>my_models</code>. For each class we take the class samples we would like to classify, and the rest will be labelled as a dummy class. We repeat the process for each class. For each classifier, we plot the decision regions. The class we are interested in is in red, and the dummy class is in blue. Similarly, the class samples are marked in blue, and the dummy samples are marked with a black x.\n"
      ]
    },
    {
      "cell_type": "code",
      "execution_count": 18,
      "metadata": {
        "colab": {
          "base_uri": "https://localhost:8080/",
          "height": 1000
        },
        "id": "QBw9Zq0c3MsH",
        "outputId": "8c5a0cee-2348-4d9d-98df-9fafa25eb682"
      },
      "outputs": [
        {
          "output_type": "stream",
          "name": "stdout",
          "text": [
            "{0, 1, 2}\n"
          ]
        },
        {
          "output_type": "stream",
          "name": "stderr",
          "text": [
            "<ipython-input-2-0090ef54ae11>:32: UserWarning: No data for colormapping provided via 'c'. Parameters 'cmap' will be ignored\n",
            "  plt.scatter(X[idx, 0], X[idx, 1], label=y,cmap=plt.cm.RdYlBu, edgecolor='black', s=15)\n"
          ]
        },
        {
          "output_type": "display_data",
          "data": {
            "text/plain": [
              "<Figure size 640x480 with 1 Axes>"
            ],
            "image/png": "[encoded data removed]"
          },
          "metadata": {}
        },
        {
          "output_type": "stream",
          "name": "stdout",
          "text": [
            "{0, 1, 2}\n"
          ]
        },
        {
          "output_type": "stream",
          "name": "stderr",
          "text": [
            "<ipython-input-2-0090ef54ae11>:32: UserWarning: No data for colormapping provided via 'c'. Parameters 'cmap' will be ignored\n",
            "  plt.scatter(X[idx, 0], X[idx, 1], label=y,cmap=plt.cm.RdYlBu, edgecolor='black', s=15)\n"
          ]
        },
        {
          "output_type": "display_data",
          "data": {
            "text/plain": [
              "<Figure size 640x480 with 1 Axes>"
            ],
            "image/png": "[encoded data removed]"
          },
          "metadata": {}
        },
        {
          "output_type": "stream",
          "name": "stdout",
          "text": [
            "{0, 1, 2}\n"
          ]
        },
        {
          "output_type": "stream",
          "name": "stderr",
          "text": [
            "<ipython-input-2-0090ef54ae11>:32: UserWarning: No data for colormapping provided via 'c'. Parameters 'cmap' will be ignored\n",
            "  plt.scatter(X[idx, 0], X[idx, 1], label=y,cmap=plt.cm.RdYlBu, edgecolor='black', s=15)\n"
          ]
        },
        {
          "output_type": "display_data",
          "data": {
            "text/plain": [
              "<Figure size 640x480 with 1 Axes>"
            ],
            "image/png": "[encoded data removed]"
          },
          "metadata": {}
        }
      ],
      "source": [
        "#dummy class\n",
        "dummy_class=y.max()+1\n",
        "#list used for classifiers\n",
        "my_models=[]\n",
        "#iterate through each class\n",
        "for class_ in np.unique(y):\n",
        "    #select the index of our  class\n",
        "    select=(y==class_)\n",
        "    temp_y=np.zeros(y.shape)\n",
        "    #class, we are trying to classify\n",
        "    temp_y[y==class_]=class_\n",
        "    #set other samples  to a dummy class\n",
        "    temp_y[y!=class_]=dummy_class\n",
        "    #Train model and add to list\n",
        "    model=SVC(kernel='linear', gamma=.5, probability=True)\n",
        "    my_models.append(model.fit(X,temp_y))\n",
        "    #plot decision boundary\n",
        "    decision_boundary (X,temp_y,model,iris)\n"
      ]
    },
    {
      "cell_type": "markdown",
      "metadata": {
        "id": "CjDKC11n3MsH"
      },
      "source": [
        " For each sample we calculate the  probability of belonging to each class, not including the dummy class.\n"
      ]
    },
    {
      "cell_type": "code",
      "execution_count": 19,
      "metadata": {
        "id": "wDsLX6fp3MsI"
      },
      "outputs": [],
      "source": [
        "probability_array=np.zeros((X.shape[0],3))\n",
        "for j,model in enumerate(my_models):\n",
        "\n",
        "    real_class=np.where(np.array(model.classes_)!=3)[0]\n",
        "\n",
        "    probability_array[:,j]=model.predict_proba(X)[:,real_class][:,0]"
      ]
    },
    {
      "cell_type": "markdown",
      "metadata": {
        "id": "qrzHmO9p3MsI"
      },
      "source": [
        "Here, is the probability of belonging to each class for the first sample.\n"
      ]
    },
    {
      "cell_type": "code",
      "execution_count": 20,
      "metadata": {
        "colab": {
          "base_uri": "https://localhost:8080/"
        },
        "id": "FNFSpTiH3MsJ",
        "outputId": "2b2c803e-1f69-4909-88d9-050dd6b527c4"
      },
      "outputs": [
        {
          "output_type": "execute_result",
          "data": {
            "text/plain": [
              "array([9.92193199e-01, 1.16698889e-01, 4.56495362e-11])"
            ]
          },
          "metadata": {},
          "execution_count": 20
        }
      ],
      "source": [
        "probability_array[0,:]"
      ]
    },
    {
      "cell_type": "markdown",
      "metadata": {
        "id": "l1Ow-y6Q3MsJ"
      },
      "source": [
        "As each is the probability of belonging to the actual class and not the dummy class, it does not sum to one.\n"
      ]
    },
    {
      "cell_type": "code",
      "execution_count": 21,
      "metadata": {
        "colab": {
          "base_uri": "https://localhost:8080/"
        },
        "id": "ru9wcG3y3MsJ",
        "outputId": "0f2eb25a-01b6-4119-a809-1dfa9464b0e8"
      },
      "outputs": [
        {
          "output_type": "execute_result",
          "data": {
            "text/plain": [
              "1.1088920885971891"
            ]
          },
          "metadata": {},
          "execution_count": 21
        }
      ],
      "source": [
        "probability_array[0,:].sum()"
      ]
    },
    {
      "cell_type": "markdown",
      "metadata": {
        "id": "OotJE9_o3MsK"
      },
      "source": [
        "We can plot the probability of belonging to the class. The row number is the sample number.\n"
      ]
    },
    {
      "cell_type": "code",
      "execution_count": 22,
      "metadata": {
        "colab": {
          "base_uri": "https://localhost:8080/",
          "height": 430
        },
        "id": "uCb02CNs3MsK",
        "outputId": "190b940e-24b3-47d9-fe98-8163914ac4ff"
      },
      "outputs": [
        {
          "output_type": "display_data",
          "data": {
            "text/plain": [
              "<Figure size 640x480 with 2 Axes>"
            ],
            "image/png": "[encoded data removed]"
          },
          "metadata": {}
        }
      ],
      "source": [
        "plot_probability_array(X,probability_array)"
      ]
    },
    {
      "cell_type": "markdown",
      "metadata": {
        "id": "t3sIWSmp3MsN"
      },
      "source": [
        "We can apply the $argmax$ function to each sample to find the class.\n"
      ]
    },
    {
      "cell_type": "code",
      "execution_count": 23,
      "metadata": {
        "colab": {
          "base_uri": "https://localhost:8080/"
        },
        "id": "XZzX3XoX3MsN",
        "outputId": "71d3b078-4b15-4b1c-cc94-cae44382347a"
      },
      "outputs": [
        {
          "output_type": "execute_result",
          "data": {
            "text/plain": [
              "array([0, 0, 0, 0, 0, 0, 0, 0, 0, 0, 0, 0, 0, 0, 0, 0, 0, 0, 0, 0, 0, 0,\n",
              "       0, 0, 0, 0, 0, 0, 0, 0, 0, 0, 0, 0, 0, 0, 0, 0, 0, 0, 0, 1, 0, 0,\n",
              "       0, 0, 0, 0, 0, 0, 1, 1, 1, 1, 1, 1, 2, 1, 1, 1, 1, 1, 1, 1, 1, 1,\n",
              "       1, 1, 1, 1, 2, 1, 1, 1, 1, 1, 1, 2, 1, 1, 1, 1, 1, 1, 1, 2, 1, 1,\n",
              "       1, 1, 1, 1, 1, 1, 1, 1, 1, 1, 1, 1, 2, 2, 2, 2, 2, 2, 2, 2, 2, 2,\n",
              "       2, 2, 2, 2, 2, 2, 2, 2, 2, 1, 2, 2, 2, 2, 2, 2, 2, 2, 2, 2, 2, 2,\n",
              "       2, 1, 1, 2, 2, 2, 2, 2, 2, 2, 2, 2, 2, 2, 2, 2, 2, 2])"
            ]
          },
          "metadata": {},
          "execution_count": 23
        }
      ],
      "source": [
        "one_vs_all=np.argmax(probability_array,axis=1)\n",
        "one_vs_all"
      ]
    },
    {
      "cell_type": "markdown",
      "metadata": {
        "id": "86tu-NIR3MsO"
      },
      "source": [
        "We can calculate the accuracy.\n"
      ]
    },
    {
      "cell_type": "code",
      "execution_count": 24,
      "metadata": {
        "colab": {
          "base_uri": "https://localhost:8080/"
        },
        "id": "ujV_rxvn3MsO",
        "outputId": "9f075241-30fb-4915-e27c-a2b560ef25d7"
      },
      "outputs": [
        {
          "output_type": "execute_result",
          "data": {
            "text/plain": [
              "0.9466666666666667"
            ]
          },
          "metadata": {},
          "execution_count": 24
        }
      ],
      "source": [
        "accuracy_score(y,one_vs_all)"
      ]
    },
    {
      "cell_type": "markdown",
      "metadata": {
        "id": "CxlX-90h3MsO"
      },
      "source": [
        "We see the accuracy is less than the one obtained by sklearn, and this is because for SVM, sklearn uses one vs one; let's verify it by comparing the outputs.\n"
      ]
    },
    {
      "cell_type": "code",
      "execution_count": 25,
      "metadata": {
        "colab": {
          "base_uri": "https://localhost:8080/"
        },
        "id": "nHSns2J23MsO",
        "outputId": "ef77c893-fa20-4362-f821-b971006a0225"
      },
      "outputs": [
        {
          "output_type": "execute_result",
          "data": {
            "text/plain": [
              "0.9733333333333334"
            ]
          },
          "metadata": {},
          "execution_count": 25
        }
      ],
      "source": [
        "accuracy_score(one_vs_all,yhat)"
      ]
    },
    {
      "cell_type": "markdown",
      "metadata": {
        "id": "rNXW5t5z3MsO"
      },
      "source": [
        "We see that the outputs are different, now lets implement one vs one.\n"
      ]
    },
    {
      "cell_type": "markdown",
      "metadata": {
        "id": "TCYcG1_i3MsP"
      },
      "source": [
        "## One vs One\n"
      ]
    },
    {
      "cell_type": "markdown",
      "metadata": {
        "id": "fCrzdwU43MsP"
      },
      "source": [
        "\n",
        "In One-vs-One classification, we split up the data into each class, and then train a two-class classifier on each pair of classes. For example, if we have class 0,1,2, we would train one classifier on the samples that are class 0 and class 1, a second classifier on samples that are of class 0 and class 2, and a final classifier on samples of class 1 and class 2.\n",
        "\n",
        "For $K$ classes, we have to train $K(K-1)/2$ classifiers. So, if $K=3$, we have $(3x2)/2=3 $classes.\n",
        "\n",
        "To perform classification on a sample, we perform a majority vote and select the class with the most predictions.\n"
      ]
    },
    {
      "cell_type": "markdown",
      "metadata": {
        "id": "Dv9J1aIH3MsP"
      },
      "source": [
        "Here, we list each class.\n"
      ]
    },
    {
      "cell_type": "code",
      "execution_count": 26,
      "metadata": {
        "colab": {
          "base_uri": "https://localhost:8080/"
        },
        "id": "NnzCvPwT3MsP",
        "outputId": "7f42ef57-50ce-4cc7-8a9b-3e23b50e345a"
      },
      "outputs": [
        {
          "output_type": "execute_result",
          "data": {
            "text/plain": [
              "{0, 1, 2}"
            ]
          },
          "metadata": {},
          "execution_count": 26
        }
      ],
      "source": [
        "classes_=set(np.unique(y))\n",
        "classes_\n",
        ""
      ]
    },
    {
      "cell_type": "markdown",
      "metadata": {
        "id": "Fs9ukYU53MsP"
      },
      "source": [
        "Determine the number of classifiers:\n"
      ]
    },
    {
      "cell_type": "code",
      "execution_count": 27,
      "metadata": {
        "colab": {
          "base_uri": "https://localhost:8080/"
        },
        "id": "jxmaOtY93MsP",
        "outputId": "f12beac1-f6de-41a4-fa06-896661dcd768"
      },
      "outputs": [
        {
          "output_type": "execute_result",
          "data": {
            "text/plain": [
              "3.0"
            ]
          },
          "metadata": {},
          "execution_count": 27
        }
      ],
      "source": [
        "K=len(classes_)\n",
        "K*(K-1)/2"
      ]
    },
    {
      "cell_type": "markdown",
      "metadata": {
        "id": "uzEUNdVA3MsQ"
      },
      "source": [
        "We then train a two-class classifier on each pair of classes. We plot the different training points for each of the two classes.\n"
      ]
    },
    {
      "cell_type": "code",
      "execution_count": 28,
      "metadata": {
        "colab": {
          "base_uri": "https://localhost:8080/",
          "height": 1000
        },
        "id": "rkKat1K43MsQ",
        "outputId": "ca07334c-4500-40e4-b53b-8517a2b990ce"
      },
      "outputs": [
        {
          "output_type": "stream",
          "name": "stdout",
          "text": [
            "class 0 vs class 1 \n"
          ]
        },
        {
          "output_type": "stream",
          "name": "stderr",
          "text": [
            "<ipython-input-2-0090ef54ae11>:20: UserWarning: No data for colormapping provided via 'c'. Parameters 'cmap' will be ignored\n",
            "  plt.scatter(X[idx, 0], X[idx, 1], label=y,cmap=plt.cm.RdYlBu, s=15)\n"
          ]
        },
        {
          "output_type": "display_data",
          "data": {
            "text/plain": [
              "<Figure size 640x480 with 1 Axes>"
            ],
            "image/png": "[encoded data removed]"
          },
          "metadata": {}
        },
        {
          "output_type": "stream",
          "name": "stdout",
          "text": [
            "class 0 vs class 2 \n"
          ]
        },
        {
          "output_type": "stream",
          "name": "stderr",
          "text": [
            "<ipython-input-2-0090ef54ae11>:20: UserWarning: No data for colormapping provided via 'c'. Parameters 'cmap' will be ignored\n",
            "  plt.scatter(X[idx, 0], X[idx, 1], label=y,cmap=plt.cm.RdYlBu, s=15)\n"
          ]
        },
        {
          "output_type": "display_data",
          "data": {
            "text/plain": [
              "<Figure size 640x480 with 1 Axes>"
            ],
            "image/png": "[encoded data removed]"
          },
          "metadata": {}
        },
        {
          "output_type": "stream",
          "name": "stdout",
          "text": [
            "class 1 vs class 2 \n"
          ]
        },
        {
          "output_type": "stream",
          "name": "stderr",
          "text": [
            "<ipython-input-2-0090ef54ae11>:20: UserWarning: No data for colormapping provided via 'c'. Parameters 'cmap' will be ignored\n",
            "  plt.scatter(X[idx, 0], X[idx, 1], label=y,cmap=plt.cm.RdYlBu, s=15)\n"
          ]
        },
        {
          "output_type": "display_data",
          "data": {
            "text/plain": [
              "<Figure size 640x480 with 1 Axes>"
            ],
            "image/png": "[encoded data removed]"
          },
          "metadata": {}
        }
      ],
      "source": [
        "pairs=[]\n",
        "left_overs=classes_.copy()\n",
        "#list used for classifiers\n",
        "my_models=[]\n",
        "#iterate through each class\n",
        "for class_ in classes_:\n",
        "    #remove class we have seen before\n",
        "    left_overs.remove(class_)\n",
        "    #the second class in the pair\n",
        "    for second_class in left_overs:\n",
        "        pairs.append(str(class_)+' and '+str(second_class))\n",
        "        print(\"class {} vs class {} \".format(class_,second_class) )\n",
        "        temp_y=np.zeros(y.shape)\n",
        "        #find classes in pair\n",
        "        select=np.logical_or(y==class_ , y==second_class)\n",
        "        #train model\n",
        "        model=SVC(kernel='linear', gamma=.5, probability=True)\n",
        "        model.fit(X[select,:],y[select])\n",
        "        my_models.append(model)\n",
        "        #Plot decision boundary for each pair and corresponding Training samples.\n",
        "        decision_boundary (X[select,:],y[select],model,iris,two=True)\n",
        "\n",
        "\n",
        ""
      ]
    },
    {
      "cell_type": "code",
      "execution_count": 29,
      "metadata": {
        "colab": {
          "base_uri": "https://localhost:8080/"
        },
        "id": "pOULg5WC3MsQ",
        "outputId": "e8e4d214-4986-43b3-c9b0-4739320d636f"
      },
      "outputs": [
        {
          "output_type": "execute_result",
          "data": {
            "text/plain": [
              "['0 and 1', '0 and 2', '1 and 2']"
            ]
          },
          "metadata": {},
          "execution_count": 29
        }
      ],
      "source": [
        "pairs"
      ]
    },
    {
      "cell_type": "markdown",
      "metadata": {
        "id": "vooPZxSS3MsQ"
      },
      "source": [
        "As we can see, our data is left-skewed, containing more \"5\" star reviews.\n"
      ]
    },
    {
      "cell_type": "markdown",
      "metadata": {
        "id": "QuSEZTu73MsQ"
      },
      "source": [
        "Here, we are plotting the distribution of text length.\n"
      ]
    },
    {
      "cell_type": "code",
      "execution_count": 30,
      "metadata": {
        "id": "wVAhxQDA3MsQ"
      },
      "outputs": [],
      "source": [
        "pairs\n",
        "majority_vote_array=np.zeros((X.shape[0],3))\n",
        "majority_vote_dict={}\n",
        "for j,(model,pair) in enumerate(zip(my_models,pairs)):\n",
        "\n",
        "    majority_vote_dict[pair]=model.predict(X)\n",
        "    majority_vote_array[:,j]=model.predict(X)"
      ]
    },
    {
      "cell_type": "markdown",
      "metadata": {
        "id": "MUviODtF3MsR"
      },
      "source": [
        "In the following table, each column is the output of a classifier for each pair of classes and the output is the prediction:\n"
      ]
    },
    {
      "cell_type": "code",
      "execution_count": 31,
      "metadata": {
        "colab": {
          "base_uri": "https://localhost:8080/",
          "height": 363
        },
        "id": "XmstZMBF3MsR",
        "outputId": "803d28cb-500f-4938-befd-2d450f0a9746"
      },
      "outputs": [
        {
          "output_type": "execute_result",
          "data": {
            "text/plain": [
              "   0 and 1  0 and 2  1 and 2\n",
              "0        0        0        1\n",
              "1        0        0        1\n",
              "2        0        0        1\n",
              "3        0        0        1\n",
              "4        0        0        1\n",
              "5        0        0        1\n",
              "6        0        0        1\n",
              "7        0        0        1\n",
              "8        0        0        1\n",
              "9        0        0        1"
            ],
            "text/html": [
              "\n",
              "  <div id=\"df-47847383-4ef5-4a62-9565-d93007dfcaa6\" class=\"colab-df-container\">\n",
              "    <div>\n",
              "<style scoped>\n",
              "    .dataframe tbody tr th:only-of-type {\n",
              "        vertical-align: middle;\n",
              "    }\n",
              "\n",
              "    .dataframe tbody tr th {\n",
              "        vertical-align: top;\n",
              "    }\n",
              "\n",
              "    .dataframe thead th {\n",
              "        text-align: right;\n",
              "    }\n",
              "</style>\n",
              "<table border=\"1\" class=\"dataframe\">\n",
              "  <thead>\n",
              "    <tr style=\"text-align: right;\">\n",
              "      <th></th>\n",
              "      <th>0 and 1</th>\n",
              "      <th>0 and 2</th>\n",
              "      <th>1 and 2</th>\n",
              "    </tr>\n",
              "  </thead>\n",
              "  <tbody>\n",
              "    <tr>\n",
              "      <th>0</th>\n",
              "      <td>0</td>\n",
              "      <td>0</td>\n",
              "      <td>1</td>\n",
              "    </tr>\n",
              "    <tr>\n",
              "      <th>1</th>\n",
              "      <td>0</td>\n",
              "      <td>0</td>\n",
              "      <td>1</td>\n",
              "    </tr>\n",
              "    <tr>\n",
              "      <th>2</th>\n",
              "      <td>0</td>\n",
              "      <td>0</td>\n",
              "      <td>1</td>\n",
              "    </tr>\n",
              "    <tr>\n",
              "      <th>3</th>\n",
              "      <td>0</td>\n",
              "      <td>0</td>\n",
              "      <td>1</td>\n",
              "    </tr>\n",
              "    <tr>\n",
              "      <th>4</th>\n",
              "      <td>0</td>\n",
              "      <td>0</td>\n",
              "      <td>1</td>\n",
              "    </tr>\n",
              "    <tr>\n",
              "      <th>5</th>\n",
              "      <td>0</td>\n",
              "      <td>0</td>\n",
              "      <td>1</td>\n",
              "    </tr>\n",
              "    <tr>\n",
              "      <th>6</th>\n",
              "      <td>0</td>\n",
              "      <td>0</td>\n",
              "      <td>1</td>\n",
              "    </tr>\n",
              "    <tr>\n",
              "      <th>7</th>\n",
              "      <td>0</td>\n",
              "      <td>0</td>\n",
              "      <td>1</td>\n",
              "    </tr>\n",
              "    <tr>\n",
              "      <th>8</th>\n",
              "      <td>0</td>\n",
              "      <td>0</td>\n",
              "      <td>1</td>\n",
              "    </tr>\n",
              "    <tr>\n",
              "      <th>9</th>\n",
              "      <td>0</td>\n",
              "      <td>0</td>\n",
              "      <td>1</td>\n",
              "    </tr>\n",
              "  </tbody>\n",
              "</table>\n",
              "</div>\n",
              "    <div class=\"colab-df-buttons\">\n",
              "\n",
              "  <div class=\"colab-df-container\">\n",
              "    <button class=\"colab-df-convert\" onclick=\"convertToInteractive('df-47847383-4ef5-4a62-9565-d93007dfcaa6')\"\n",
              "            title=\"Convert this dataframe to an interactive table.\"\n",
              "            style=\"display:none;\">\n",
              "\n",
              "  <svg xmlns=\"http://www.w3.org/2000/svg\" height=\"24px\" viewBox=\"0 -960 960 960\">\n",
              "    <path d=\"M120-120v-720h720v720H120Zm60-500h600v-160H180v160Zm220 220h160v-160H400v160Zm0 220h160v-160H400v160ZM180-400h160v-160H180v160Zm440 0h160v-160H620v160ZM180-180h160v-160H180v160Zm440 0h160v-160H620v160Z\"/>\n",
              "  </svg>\n",
              "    </button>\n",
              "\n",
              "  <style>\n",
              "    .colab-df-container {\n",
              "      display:flex;\n",
              "      gap: 12px;\n",
              "    }\n",
              "\n",
              "    .colab-df-convert {\n",
              "      background-color: #E8F0FE;\n",
              "      border: none;\n",
              "      border-radius: 50%;\n",
              "      cursor: pointer;\n",
              "      display: none;\n",
              "      fill: #1967D2;\n",
              "      height: 32px;\n",
              "      padding: 0 0 0 0;\n",
              "      width: 32px;\n",
              "    }\n",
              "\n",
              "    .colab-df-convert:hover {\n",
              "      background-color: #E2EBFA;\n",
              "      box-shadow: 0px 1px 2px rgba(60, 64, 67, 0.3), 0px 1px 3px 1px rgba(60, 64, 67, 0.15);\n",
              "      fill: #174EA6;\n",
              "    }\n",
              "\n",
              "    .colab-df-buttons div {\n",
              "      margin-bottom: 4px;\n",
              "    }\n",
              "\n",
              "    [theme=dark] .colab-df-convert {\n",
              "      background-color: #3B4455;\n",
              "      fill: #D2E3FC;\n",
              "    }\n",
              "\n",
              "    [theme=dark] .colab-df-convert:hover {\n",
              "      background-color: #434B5C;\n",
              "      box-shadow: 0px 1px 3px 1px rgba(0, 0, 0, 0.15);\n",
              "      filter: drop-shadow(0px 1px 2px rgba(0, 0, 0, 0.3));\n",
              "      fill: #FFFFFF;\n",
              "    }\n",
              "  </style>\n",
              "\n",
              "    <script>\n",
              "      const buttonEl =\n",
              "        document.querySelector('#df-47847383-4ef5-4a62-9565-d93007dfcaa6 button.colab-df-convert');\n",
              "      buttonEl.style.display =\n",
              "        google.colab.kernel.accessAllowed ? 'block' : 'none';\n",
              "\n",
              "      async function convertToInteractive(key) {\n",
              "        const element = document.querySelector('#df-47847383-4ef5-4a62-9565-d93007dfcaa6');\n",
              "        const dataTable =\n",
              "          await google.colab.kernel.invokeFunction('convertToInteractive',\n",
              "                                                    [key], {});\n",
              "        if (!dataTable) return;\n",
              "\n",
              "        const docLinkHtml = 'Like what you see? Visit the ' +\n",
              "          '<a target=\"_blank\" href=https://colab.research.google.com/notebooks/data_table.ipynb>data table notebook</a>'\n",
              "          + ' to learn more about interactive tables.';\n",
              "        element.innerHTML = '';\n",
              "        dataTable['output_type'] = 'display_data';\n",
              "        await google.colab.output.renderOutput(dataTable, element);\n",
              "        const docLink = document.createElement('div');\n",
              "        docLink.innerHTML = docLinkHtml;\n",
              "        element.appendChild(docLink);\n",
              "      }\n",
              "    </script>\n",
              "  </div>\n",
              "\n",
              "\n",
              "<div id=\"df-08394134-7ad7-4959-b3d6-828497e77c5d\">\n",
              "  <button class=\"colab-df-quickchart\" onclick=\"quickchart('df-08394134-7ad7-4959-b3d6-828497e77c5d')\"\n",
              "            title=\"Suggest charts.\"\n",
              "            style=\"display:none;\">\n",
              "\n",
              "<svg xmlns=\"http://www.w3.org/2000/svg\" height=\"24px\"viewBox=\"0 0 24 24\"\n",
              "     width=\"24px\">\n",
              "    <g>\n",
              "        <path d=\"M19 3H5c-1.1 0-2 .9-2 2v14c0 1.1.9 2 2 2h14c1.1 0 2-.9 2-2V5c0-1.1-.9-2-2-2zM9 17H7v-7h2v7zm4 0h-2V7h2v10zm4 0h-2v-4h2v4z\"/>\n",
              "    </g>\n",
              "</svg>\n",
              "  </button>\n",
              "\n",
              "<style>\n",
              "  .colab-df-quickchart {\n",
              "      --bg-color: #E8F0FE;\n",
              "      --fill-color: #1967D2;\n",
              "      --hover-bg-color: #E2EBFA;\n",
              "      --hover-fill-color: #174EA6;\n",
              "      --disabled-fill-color: #AAA;\n",
              "      --disabled-bg-color: #DDD;\n",
              "  }\n",
              "\n",
              "  [theme=dark] .colab-df-quickchart {\n",
              "      --bg-color: #3B4455;\n",
              "      --fill-color: #D2E3FC;\n",
              "      --hover-bg-color: #434B5C;\n",
              "      --hover-fill-color: #FFFFFF;\n",
              "      --disabled-bg-color: #3B4455;\n",
              "      --disabled-fill-color: #666;\n",
              "  }\n",
              "\n",
              "  .colab-df-quickchart {\n",
              "    background-color: var(--bg-color);\n",
              "    border: none;\n",
              "    border-radius: 50%;\n",
              "    cursor: pointer;\n",
              "    display: none;\n",
              "    fill: var(--fill-color);\n",
              "    height: 32px;\n",
              "    padding: 0;\n",
              "    width: 32px;\n",
              "  }\n",
              "\n",
              "  .colab-df-quickchart:hover {\n",
              "    background-color: var(--hover-bg-color);\n",
              "    box-shadow: 0 1px 2px rgba(60, 64, 67, 0.3), 0 1px 3px 1px rgba(60, 64, 67, 0.15);\n",
              "    fill: var(--button-hover-fill-color);\n",
              "  }\n",
              "\n",
              "  .colab-df-quickchart-complete:disabled,\n",
              "  .colab-df-quickchart-complete:disabled:hover {\n",
              "    background-color: var(--disabled-bg-color);\n",
              "    fill: var(--disabled-fill-color);\n",
              "    box-shadow: none;\n",
              "  }\n",
              "\n",
              "  .colab-df-spinner {\n",
              "    border: 2px solid var(--fill-color);\n",
              "    border-color: transparent;\n",
              "    border-bottom-color: var(--fill-color);\n",
              "    animation:\n",
              "      spin 1s steps(1) infinite;\n",
              "  }\n",
              "\n",
              "  @keyframes spin {\n",
              "    0% {\n",
              "      border-color: transparent;\n",
              "      border-bottom-color: var(--fill-color);\n",
              "      border-left-color: var(--fill-color);\n",
              "    }\n",
              "    20% {\n",
              "      border-color: transparent;\n",
              "      border-left-color: var(--fill-color);\n",
              "      border-top-color: var(--fill-color);\n",
              "    }\n",
              "    30% {\n",
              "      border-color: transparent;\n",
              "      border-left-color: var(--fill-color);\n",
              "      border-top-color: var(--fill-color);\n",
              "      border-right-color: var(--fill-color);\n",
              "    }\n",
              "    40% {\n",
              "      border-color: transparent;\n",
              "      border-right-color: var(--fill-color);\n",
              "      border-top-color: var(--fill-color);\n",
              "    }\n",
              "    60% {\n",
              "      border-color: transparent;\n",
              "      border-right-color: var(--fill-color);\n",
              "    }\n",
              "    80% {\n",
              "      border-color: transparent;\n",
              "      border-right-color: var(--fill-color);\n",
              "      border-bottom-color: var(--fill-color);\n",
              "    }\n",
              "    90% {\n",
              "      border-color: transparent;\n",
              "      border-bottom-color: var(--fill-color);\n",
              "    }\n",
              "  }\n",
              "</style>\n",
              "\n",
              "  <script>\n",
              "    async function quickchart(key) {\n",
              "      const quickchartButtonEl =\n",
              "        document.querySelector('#' + key + ' button');\n",
              "      quickchartButtonEl.disabled = true;  // To prevent multiple clicks.\n",
              "      quickchartButtonEl.classList.add('colab-df-spinner');\n",
              "      try {\n",
              "        const charts = await google.colab.kernel.invokeFunction(\n",
              "            'suggestCharts', [key], {});\n",
              "      } catch (error) {\n",
              "        console.error('Error during call to suggestCharts:', error);\n",
              "      }\n",
              "      quickchartButtonEl.classList.remove('colab-df-spinner');\n",
              "      quickchartButtonEl.classList.add('colab-df-quickchart-complete');\n",
              "    }\n",
              "    (() => {\n",
              "      let quickchartButtonEl =\n",
              "        document.querySelector('#df-08394134-7ad7-4959-b3d6-828497e77c5d button');\n",
              "      quickchartButtonEl.style.display =\n",
              "        google.colab.kernel.accessAllowed ? 'block' : 'none';\n",
              "    })();\n",
              "  </script>\n",
              "</div>\n",
              "    </div>\n",
              "  </div>\n"
            ]
          },
          "metadata": {},
          "execution_count": 31
        }
      ],
      "source": [
        "pd.DataFrame(majority_vote_dict).head(10)"
      ]
    },
    {
      "cell_type": "markdown",
      "metadata": {
        "id": "u8TN3lKo3MsR"
      },
      "source": [
        "To perform classification on a sample, we perform a majority vote, that is, select the class with the most predictions. We repeat the process for each sample.\n"
      ]
    },
    {
      "cell_type": "code",
      "execution_count": 32,
      "metadata": {
        "colab": {
          "base_uri": "https://localhost:8080/"
        },
        "id": "Ff8HeE_k3MsR",
        "outputId": "7f356005-847d-49e1-e535-b8e8bcaa2dea"
      },
      "outputs": [
        {
          "output_type": "execute_result",
          "data": {
            "text/plain": [
              "array([0, 0, 0, 0, 0, 0, 0, 0, 0, 0, 0, 0, 0, 0, 0, 0, 0, 0, 0, 0, 0, 0,\n",
              "       0, 0, 0, 0, 0, 0, 0, 0, 0, 0, 0, 0, 0, 0, 0, 0, 0, 0, 0, 0, 0, 0,\n",
              "       0, 0, 0, 0, 0, 0, 1, 1, 1, 1, 1, 1, 1, 1, 1, 1, 1, 1, 1, 1, 1, 1,\n",
              "       1, 1, 1, 1, 2, 1, 1, 1, 1, 1, 1, 2, 1, 1, 1, 1, 1, 1, 1, 1, 1, 1,\n",
              "       1, 1, 1, 1, 1, 1, 1, 1, 1, 1, 1, 1, 2, 2, 2, 2, 2, 2, 2, 2, 2, 2,\n",
              "       2, 2, 2, 2, 2, 2, 2, 2, 2, 1, 2, 2, 2, 2, 2, 2, 2, 2, 2, 1, 2, 2,\n",
              "       2, 1, 1, 2, 2, 2, 2, 2, 2, 2, 2, 2, 2, 2, 2, 2, 2, 2])"
            ]
          },
          "metadata": {},
          "execution_count": 32
        }
      ],
      "source": [
        "one_vs_one=np.array([np.bincount(sample.astype(int)).argmax() for sample  in majority_vote_array])\n",
        "one_vs_one\n",
        ""
      ]
    },
    {
      "cell_type": "markdown",
      "metadata": {
        "id": "lkgMGHWH3MsR"
      },
      "source": [
        "We calculate the accuracy:\n"
      ]
    },
    {
      "cell_type": "code",
      "execution_count": 33,
      "metadata": {
        "colab": {
          "base_uri": "https://localhost:8080/"
        },
        "id": "RVBrO7Dq3MsT",
        "outputId": "035b5d24-c23d-46a3-ad29-30342207d360"
      },
      "outputs": [
        {
          "output_type": "execute_result",
          "data": {
            "text/plain": [
              "0.96"
            ]
          },
          "metadata": {},
          "execution_count": 33
        }
      ],
      "source": [
        "accuracy_score(y,one_vs_one)"
      ]
    },
    {
      "cell_type": "markdown",
      "metadata": {
        "id": "KqihNIOi3MsT"
      },
      "source": [
        "If we compare it to `sklearn`, it's the same!\n"
      ]
    },
    {
      "cell_type": "code",
      "execution_count": 34,
      "metadata": {
        "colab": {
          "base_uri": "https://localhost:8080/"
        },
        "id": "_h_uj_VZ3MsT",
        "outputId": "6b2b35ef-51eb-4b90-c988-f7e8aa830d76"
      },
      "outputs": [
        {
          "output_type": "execute_result",
          "data": {
            "text/plain": [
              "1.0"
            ]
          },
          "metadata": {},
          "execution_count": 34
        }
      ],
      "source": [
        "accuracy_score(yhat,one_vs_one)"
      ]
    },
    {
      "cell_type": "markdown",
      "metadata": {
        "id": "qtAZw4UU3MsU"
      },
      "source": [
        "***\n"
      ]
    },
    {
      "cell_type": "markdown",
      "metadata": {
        "id": "Vi7bZgPI3MsU"
      },
      "source": [
        "## Author\n"
      ]
    },
    {
      "cell_type": "markdown",
      "metadata": {
        "id": "x66jL4EG3MsU"
      },
      "source": [
        "<a href=\"https://www.linkedin.com/in/joseph-s-50398b136/?utm_medium=Exinfluencer&utm_source=Exinfluencer&utm_content=000026UJ&utm_term=10006555&utm_id=NA-SkillsNetwork-Channel-SkillsNetworkCoursesIBMDeveloperSkillsNetworkML0101ENSkillsNetwork20718538-2021-01-01\">Joseph Santarcangelo</a>\n"
      ]
    },
    {
      "cell_type": "markdown",
      "metadata": {
        "id": "GLA6gOuG3MsU"
      },
      "source": [
        "### Other Contributors\n"
      ]
    },
    {
      "cell_type": "markdown",
      "metadata": {
        "id": "oDtBG3s53MsU"
      },
      "source": [
        "Azim Hirjani\n"
      ]
    },
    {
      "cell_type": "markdown",
      "metadata": {
        "id": "5WelEER83MsU"
      },
      "source": [
        "## Change Log\n"
      ]
    },
    {
      "cell_type": "markdown",
      "metadata": {
        "id": "V_8azIgn3MsV"
      },
      "source": [
        "| Date (YYYY-MM-DD) | Version | Changed By | Change Description      |\n",
        "| ----------------- | ------- | ---------- | ----------------------- |\n",
        "| 2020-07-20        | 0.2     | Azim       | Modified Multiple Areas |\n",
        "| 2020-07-17        | 0.1     | Azim       | Created Lab Template    |\n",
        "| 2022-08-31        | 0.3     | Steve Hord | QA pass edits           |\n"
      ]
    },
    {
      "cell_type": "markdown",
      "metadata": {
        "id": "godYTAXN3MsV"
      },
      "source": [
        "Copyright © 2020 IBM Corporation. All rights reserved.\n"
      ]
    },
    {
      "cell_type": "code",
      "source": [],
      "metadata": {
        "id": "CyRPgAwI4XYN"
      },
      "execution_count": 34,
      "outputs": []
    }
  ],
  "metadata": {
    "kernelspec": {
      "display_name": "Python",
      "language": "python",
      "name": "conda-env-python-py"
    },
    "language_info": {
      "name": ""
    },
    "colab": {
      "provenance": []
    }
  },
  "nbformat": 4,
  "nbformat_minor": 0
}